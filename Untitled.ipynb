{
 "cells": [
  {
   "cell_type": "code",
   "execution_count": 2,
   "metadata": {
    "collapsed": false
   },
   "outputs": [],
   "source": [
    "import tools.find_mxnet\n",
    "import mxnet as mx\n",
    "import os"
   ]
  },
  {
   "cell_type": "code",
   "execution_count": 3,
   "metadata": {
    "collapsed": true
   },
   "outputs": [],
   "source": [
    "import sys\n",
    "import importlib\n",
    "from dataset.pascal_voc import PascalVoc\n",
    "from dataset.iterator import DetIter\n",
    "from detect.detector import Detector\n",
    "from config.config import cfg\n",
    "import logging\n",
    "from dataset.signal import Signal"
   ]
  },
  {
   "cell_type": "code",
   "execution_count": null,
   "metadata": {
    "collapsed": false
   },
   "outputs": [],
   "source": [
    "def load_signal(list_file='valid', shuffle=False, extension='.png'):\n",
    "    name = 'signal'\n",
    "    classes = ('1','2','3','4','5','6','7','8','9','10','11','12',\n",
    "             '13','14','15','16','17','18','19','20','21','22','23',\n",
    "             '24','25','26','27','28','29','30','31','32','33','34','35',\n",
    "             '36','37','38','39','40','41','42','43','44','45','46','47',\n",
    "             '48','49','50','51','52','53','54','55','56','57',\n",
    "             '58','59','60','61','62','63','64','65',\n",
    "             '66','67','68','69','70','71','72','73','74')\n",
    "    list_file = '{}.txt'.format(list_file)\n",
    "    base_dir =  os.path.join(os.getcwd(), 'data', 'signal_test')\n",
    "    return Signal(name, classes, list_file, base_dir, 'images', 'labels', \\\n",
    "                 extension, label_extension='.txt', shuffle=True)"
   ]
  },
  {
   "cell_type": "code",
   "execution_count": null,
   "metadata": {
    "collapsed": false
   },
   "outputs": [],
   "source": [
    " imdb = load_signal('valid')"
   ]
  },
  {
   "cell_type": "code",
   "execution_count": null,
   "metadata": {
    "collapsed": false
   },
   "outputs": [],
   "source": [
    "data_iter = DetIter(imdb, 32, 300, (123,117,104),\n",
    "            rand_samplers=[], rand_mirror=False, is_train=False, shuffle=False)"
   ]
  },
  {
   "cell_type": "code",
   "execution_count": 4,
   "metadata": {
    "collapsed": true
   },
   "outputs": [],
   "source": [
    " sys.path.append(os.path.join(cfg.ROOT_DIR, 'symbol'))"
   ]
  },
  {
   "cell_type": "code",
   "execution_count": 8,
   "metadata": {
    "collapsed": true
   },
   "outputs": [],
   "source": [
    "net_txt = 'vgg16_reduced'\n",
    "nms_thresh = 0.45\n",
    "force_nms = False"
   ]
  },
  {
   "cell_type": "code",
   "execution_count": 9,
   "metadata": {
    "collapsed": false
   },
   "outputs": [],
   "source": [
    "net = importlib.import_module(\"symbol_\" + net_txt)"
   ]
  },
  {
   "cell_type": "code",
   "execution_count": 10,
   "metadata": {
    "collapsed": false
   },
   "outputs": [],
   "source": [
    "net = net.get_symbol(74, 0.45, False)"
   ]
  },
  {
   "cell_type": "code",
   "execution_count": 15,
   "metadata": {
    "collapsed": true
   },
   "outputs": [],
   "source": [
    "model_prefix = os.path.join(os.getcwd(), 'model', 'ssd')"
   ]
  },
  {
   "cell_type": "code",
   "execution_count": 16,
   "metadata": {
    "collapsed": false
   },
   "outputs": [],
   "source": [
    "model_prefix += \"_\" + str(300)"
   ]
  },
  {
   "cell_type": "code",
   "execution_count": 17,
   "metadata": {
    "collapsed": false
   },
   "outputs": [
    {
     "data": {
      "text/plain": [
       "'/home/autolab/project/mxnet-ssd/model/ssd_300'"
      ]
     },
     "execution_count": 17,
     "metadata": {},
     "output_type": "execute_result"
    }
   ],
   "source": [
    "model_prefix"
   ]
  },
  {
   "cell_type": "code",
   "execution_count": 20,
   "metadata": {
    "collapsed": true
   },
   "outputs": [],
   "source": [
    "data_shape = 300\n",
    "mean_pixels = (123, 117, 104)\n",
    "batch_size = 32\n",
    "epoch = 64\n",
    "ctx = [mx.gpu(1)]"
   ]
  },
  {
   "cell_type": "code",
   "execution_count": 22,
   "metadata": {
    "collapsed": false
   },
   "outputs": [],
   "source": [
    "detector = Detector(net, model_prefix, epoch, data_shape, mean_pixels, batch_size, ctx)"
   ]
  },
  {
   "cell_type": "code",
   "execution_count": null,
   "metadata": {
    "collapsed": true
   },
   "outputs": [],
   "source": []
  }
 ],
 "metadata": {
  "kernelspec": {
   "display_name": "Python 2",
   "language": "python",
   "name": "python2"
  },
  "language_info": {
   "codemirror_mode": {
    "name": "ipython",
    "version": 2
   },
   "file_extension": ".py",
   "mimetype": "text/x-python",
   "name": "python",
   "nbconvert_exporter": "python",
   "pygments_lexer": "ipython2",
   "version": "2.7.11"
  }
 },
 "nbformat": 4,
 "nbformat_minor": 0
}
